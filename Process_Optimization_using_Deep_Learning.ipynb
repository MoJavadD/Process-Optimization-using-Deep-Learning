{
  "nbformat": 4,
  "nbformat_minor": 0,
  "metadata": {
    "colab": {
      "provenance": []
    },
    "kernelspec": {
      "name": "python3",
      "display_name": "Python 3"
    },
    "language_info": {
      "name": "python"
    }
  },
  "cells": [
    {
      "cell_type": "code",
      "execution_count": null,
      "metadata": {
        "id": "5bymdM7eCcW6"
      },
      "outputs": [],
      "source": [
        "import pandas as pd\n",
        "from sklearn.model_selection import train_test_split\n",
        "import matplotlib.pyplot as plt\n",
        "from tensorflow.keras.models import Sequential\n",
        "from tensorflow.keras.layers import Dense\n",
        "from tensorflow.keras.optimizers import Adam\n"
      ]
    },
    {
      "cell_type": "code",
      "source": [
        "# Function to load and preprocess data for process optimization\n",
        "def load_and_preprocess_data_optimization(file_path):\n",
        "    df = pd.read_csv(file_path)\n",
        "\n",
        "    # Separate features (X) and target variable (y)\n",
        "    X = df.drop('output_quality', axis=1)\n",
        "    y = df['output_quality']\n",
        "\n",
        "    # Split the data into training and testing sets\n",
        "    X_train, X_test, y_train, y_test = train_test_split(X, y, test_size=0.2, random_state=42)\n",
        "\n",
        "    return X_train, X_test, y_train, y_test"
      ],
      "metadata": {
        "id": "0SLpRK6JCgJ2"
      },
      "execution_count": null,
      "outputs": []
    },
    {
      "cell_type": "code",
      "source": [
        "# Load and preprocess data for process optimization\n",
        "file_path_optimization = 'optimization_dataset.csv'\n",
        "X_train_opt, X_test_opt, y_train_opt, y_test_opt = load_and_preprocess_data_optimization(file_path_optimization)\n"
      ],
      "metadata": {
        "id": "zMydD9zBCgNg"
      },
      "execution_count": null,
      "outputs": []
    },
    {
      "cell_type": "code",
      "source": [
        "# Initialize the neural network model for process optimization\n",
        "model_opt_dl = Sequential([\n",
        "    Dense(64, input_shape=(X_train_opt.shape[1],), activation='relu'),\n",
        "    Dense(32, activation='relu'),\n",
        "    Dense(1)\n",
        "])\n"
      ],
      "metadata": {
        "id": "lk1r9vuRCgQR"
      },
      "execution_count": null,
      "outputs": []
    },
    {
      "cell_type": "code",
      "source": [
        "# Compile the model for process optimization\n",
        "model_opt_dl.compile(optimizer=Adam(), loss='mean_squared_error')\n"
      ],
      "metadata": {
        "id": "fUtK4xeQCgTQ"
      },
      "execution_count": null,
      "outputs": []
    },
    {
      "cell_type": "code",
      "source": [
        "# Train the model for process optimization\n",
        "model_opt_dl.fit(X_train_opt, y_train_opt, epochs=50, batch_size=32, validation_data=(X_test_opt, y_test_opt), verbose=2)\n"
      ],
      "metadata": {
        "id": "E6ExMtIXCgWZ"
      },
      "execution_count": null,
      "outputs": []
    },
    {
      "cell_type": "code",
      "source": [
        "# Evaluate the model for process optimization\n",
        "mse_opt_dl = model_opt_dl.evaluate(X_test_opt, y_test_opt, verbose=0)\n",
        "print(f'Mean Squared Error (MSE) for Process Optimization (Deep Learning): {mse_opt_dl}')\n"
      ],
      "metadata": {
        "id": "4sx9IvUuCgZY"
      },
      "execution_count": null,
      "outputs": []
    },
    {
      "cell_type": "code",
      "source": [
        "# Predict using the trained model for process optimization\n",
        "y_pred_opt_dl = model_opt_dl.predict(X_test_opt)\n"
      ],
      "metadata": {
        "id": "RKL1AL6eCgca"
      },
      "execution_count": null,
      "outputs": []
    },
    {
      "cell_type": "code",
      "source": [
        "# Plot actual vs. predicted output for process optimization\n",
        "plt.scatter(y_test_opt, y_pred_opt_dl)\n",
        "plt.xlabel('Actual Output Quality for Process Optimization (Deep Learning)')\n",
        "plt.ylabel('Predicted Output Quality for Process Optimization (Deep Learning)')\n",
        "plt.title('Actual vs. Predicted Output Quality for Process Optimization (Deep Learning)')\n",
        "plt.show()"
      ],
      "metadata": {
        "id": "PuQsMI0KCgfR"
      },
      "execution_count": null,
      "outputs": []
    },
    {
      "cell_type": "code",
      "source": [],
      "metadata": {
        "id": "n7wQuVFhCgiW"
      },
      "execution_count": null,
      "outputs": []
    },
    {
      "cell_type": "code",
      "source": [],
      "metadata": {
        "id": "PpOiN2JcCglv"
      },
      "execution_count": null,
      "outputs": []
    }
  ]
}